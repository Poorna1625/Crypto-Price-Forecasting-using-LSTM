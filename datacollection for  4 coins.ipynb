{
 "cells": [
  {
   "cell_type": "code",
   "execution_count": 3,
   "id": "beea483e",
   "metadata": {},
   "outputs": [
    {
     "name": "stdout",
     "output_type": "stream",
     "text": [
      "BTC-USD data downloaded successfully!\n",
      "ETH-USD data downloaded successfully!\n",
      "DOGE-USD data downloaded successfully!\n",
      "LTC-USD data downloaded successfully!\n"
     ]
    }
   ],
   "source": [
    "import yfinance as yf\n",
    "\n",
    "# Define the tickers for the cryptocurrencies\n",
    "cryptos = ['BTC-USD', 'ETH-USD', 'DOGE-USD', 'LTC-USD']\n",
    "\n",
    "# Define the start and end dates\n",
    "start_date = '2020-01-01'\n",
    "end_date = '2023-08-08'  \n",
    "\n",
    "# Loop through the tickers and download the data\n",
    "for crypto in cryptos:\n",
    "    ticker = yf.Ticker(crypto)\n",
    "    # Get historical data with daily granularity and specified date range\n",
    "    data = ticker.history(start=start_date, end=end_date)\n",
    "    # Save the data to a CSV file\n",
    "    data.to_csv(f\"{crypto}_historical_data.csv\")\n",
    "    print(f\"{crypto} data downloaded successfully!\")\n",
    "\n"
   ]
  },
  {
   "cell_type": "code",
   "execution_count": null,
   "id": "ca9ccdde",
   "metadata": {},
   "outputs": [],
   "source": []
  }
 ],
 "metadata": {
  "kernelspec": {
   "display_name": "Python 3 (ipykernel)",
   "language": "python",
   "name": "python3"
  },
  "language_info": {
   "codemirror_mode": {
    "name": "ipython",
    "version": 3
   },
   "file_extension": ".py",
   "mimetype": "text/x-python",
   "name": "python",
   "nbconvert_exporter": "python",
   "pygments_lexer": "ipython3",
   "version": "3.9.13"
  }
 },
 "nbformat": 4,
 "nbformat_minor": 5
}
